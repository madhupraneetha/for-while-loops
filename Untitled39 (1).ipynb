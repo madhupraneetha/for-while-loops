{
 "cells": [
  {
   "cell_type": "code",
   "execution_count": 13,
   "id": "c4dec116-3b39-4bff-a245-5cde6f386358",
   "metadata": {},
   "outputs": [
    {
     "name": "stdin",
     "output_type": "stream",
     "text": [
      "enter any character: 90\n",
      "enter any character: madhu\n",
      "enter any character: 78787878\n",
      "enter any character: *\n"
     ]
    },
    {
     "name": "stdout",
     "output_type": "stream",
     "text": [
      "lower case char :  1\n",
      "upper case char :  0\n",
      "number  char :  1\n"
     ]
    }
   ],
   "source": [
    "# write a  program to read a character until * is entered.\n",
    "'''count the number of uppercase , lowercase , and number entered by the user '''\n",
    "ch = input(\"enter any character:\")\n",
    "n=u=l=0\n",
    "if ch>='0' and ch<='9':\n",
    "    n+=1\n",
    "elif ch>='a' and ch<='z':\n",
    "    l+=1\n",
    "elif ch>='A' and ch<='Z':\n",
    "    u+=1\n",
    "while ch!= '*':\n",
    "    ch = input(\"enter any character:\")\n",
    "    if ch>='0' and ch<='9':\n",
    "        n+=1\n",
    "    elif ch>='a' and ch<='z':\n",
    "        l+=1\n",
    "    elif ch>='A' and ch<='Z':\n",
    "        u+=1\n",
    "print(\"lower case char : \", l)\n",
    "print(\"upper case char : \", u)\n",
    "print(\"number  char : \", n)\n",
    "\n",
    "    "
   ]
  },
  {
   "cell_type": "code",
   "execution_count": 15,
   "id": "7a821188-a2d0-4b15-8dcd-4d6218e3f3a0",
   "metadata": {},
   "outputs": [
    {
     "name": "stdout",
     "output_type": "stream",
     "text": [
      "cat\n",
      "dog\n",
      "fish\n"
     ]
    }
   ],
   "source": [
    "# list of strings\n",
    "s = ['cat' , 'dog' , 'fish']\n",
    "for pet in s :\n",
    "    print(pet)"
   ]
  },
  {
   "cell_type": "code",
   "execution_count": 53,
   "id": "a25086e3-e827-42ab-9378-858eacd18228",
   "metadata": {},
   "outputs": [
    {
     "name": "stdin",
     "output_type": "stream",
     "text": [
      "enter the value of n  10\n"
     ]
    },
    {
     "name": "stdout",
     "output_type": "stream",
     "text": [
      "3 4 5 6 7 8 9 10 10 8 6 4 "
     ]
    }
   ],
   "source": [
    "#for with in range\n",
    "n= int(input(\"enter the value of n \"))\n",
    "for i in range (0,n+1):\n",
    "    print(i,end=' ')\n",
    "for i in range(n, 0 , -2):\n",
    "    print(i,end=' ')"
   ]
  },
  {
   "cell_type": "code",
   "execution_count": 79,
   "id": "4eebae73-902b-4a50-8a63-136730d58489",
   "metadata": {},
   "outputs": [
    {
     "name": "stdin",
     "output_type": "stream",
     "text": [
      "enter a number 2\n"
     ]
    },
    {
     "name": "stdout",
     "output_type": "stream",
     "text": [
      "2 * 0 = 0\n",
      "2 * 1 = 2\n",
      "2 * 2 = 4\n",
      "2 * 3 = 6\n",
      "2 * 4 = 8\n",
      "2 * 5 = 10\n",
      "2 * 6 = 12\n",
      "2 * 7 = 14\n",
      "2 * 8 = 16\n",
      "2 * 9 = 18\n",
      "2 * 10 = 20\n"
     ]
    }
   ],
   "source": [
    "#printiing mulitiplication\n",
    "m = int(input(\"enter a number :\"))\n",
    "for i in range(0,11):\n",
    "    print(f\"{m} * {i} = {m*i}\")"
   ]
  },
  {
   "cell_type": "code",
   "execution_count": 83,
   "id": "4c169d33-f050-4fe7-944b-7dcd3a03a390",
   "metadata": {},
   "outputs": [
    {
     "name": "stdin",
     "output_type": "stream",
     "text": [
      "enter the value : 89\n"
     ]
    },
    {
     "name": "stdout",
     "output_type": "stream",
     "text": [
      "Multiplication table of n\n",
      "***********************************\n",
      "89 x 0 = 0\n",
      "89 x 1 = 89\n",
      "89 x 2 = 178\n",
      "89 x 3 = 267\n",
      "89 x 4 = 356\n",
      "89 x 5 = 445\n",
      "89 x 6 = 534\n",
      "89 x 7 = 623\n",
      "89 x 8 = 712\n",
      "89 x 9 = 801\n",
      "89 x 10 = 890\n"
     ]
    }
   ],
   "source": [
    "n = int(input(\"enter the value :\"))\n",
    "print(\"Multiplication table of n\")\n",
    "print(\"***********************************\")\n",
    "for i in range(0,11):\n",
    "    print(n, \"x\" , i, \"=\" , n*i)"
   ]
  },
  {
   "cell_type": "code",
   "execution_count": 85,
   "id": "c5bb8a54-d12f-4d73-9f05-e0a799bdb6f4",
   "metadata": {},
   "outputs": [
    {
     "name": "stdin",
     "output_type": "stream",
     "text": [
      "enter the starting year: 1900\n",
      "enter the ending year: 2101\n"
     ]
    },
    {
     "name": "stdout",
     "output_type": "stream",
     "text": [
      "1900 1904 1908 1912 1916 1920 1924 1928 1932 1936 1940 1944 1948 1952 1956 1960 1964 1968 1972 1976 1980 1984 1988 1992 1996 2000 2004 2008 2012 2016 2020 2024 2028 2032 2036 2040 2044 2048 2052 2056 2060 2064 2068 2072 2076 2080 2084 2088 2092 2096 2100 "
     ]
    }
   ],
   "source": [
    "#program to display all the leap year from 1900, 2101\n",
    "st = int(input(\"enter the starting year:\"))\n",
    "ed = int(input(\"enter the ending year:\"))\n",
    "for i in range(st, ed+1):\n",
    "    if i%4==0:\n",
    "        print(i,end=' ' )"
   ]
  },
  {
   "cell_type": "code",
   "execution_count": 91,
   "id": "35d930a7-1f85-433b-a1e1-33b5f5d7100c",
   "metadata": {},
   "outputs": [
    {
     "name": "stdin",
     "output_type": "stream",
     "text": [
      "enter the value of n : 5\n"
     ]
    },
    {
     "name": "stdout",
     "output_type": "stream",
     "text": [
      "1.4636111111111112\n"
     ]
    }
   ],
   "source": [
    "'''1 + 1/2**2 + 1/3**2 + ....1/n**2\n",
    "i/p = 5 \n",
    "o/p = 1.463'''\n",
    "n = int(input(\"enter the value of n :\"))\n",
    "s = 0.0\n",
    "for i in range(1,n+1):\n",
    "    a = 1.0/(i**2)\n",
    "    s=s+a\n",
    "print(s)"
   ]
  },
  {
   "cell_type": "code",
   "execution_count": 95,
   "id": "b21933d4-293a-42d6-84dc-546bcaf205a3",
   "metadata": {},
   "outputs": [
    {
     "name": "stdin",
     "output_type": "stream",
     "text": [
      "enter the value of n : 3\n"
     ]
    },
    {
     "name": "stdout",
     "output_type": "stream",
     "text": [
      "1.8333333333333333\n"
     ]
    }
   ],
   "source": [
    "'''1/2 + 2/3 + 3/4 +....n'''\n",
    "n = int(input(\"enter the value of n :\"))\n",
    "s = 0.0\n",
    "for i in range(1,n+1):\n",
    "    a = 1/i\n",
    "    s = s+a\n",
    "print(s)\n"
   ]
  },
  {
   "cell_type": "code",
   "execution_count": 154,
   "id": "1b2156f3-da6c-44cb-bd3c-e22c8218f6a2",
   "metadata": {},
   "outputs": [
    {
     "name": "stdin",
     "output_type": "stream",
     "text": [
      "entr the start day of the month(1-7): 6\n",
      "enter the number of days : 6\n"
     ]
    },
    {
     "name": "stdout",
     "output_type": "stream",
     "text": [
      "Sun Mon Tues Wed Thus Fri Sat\n",
      "----------------------------------\n",
      "     1   2   \n",
      "3   4   5   6   "
     ]
    }
   ],
   "source": [
    "''' generating a calender manually '''\n",
    "sday = int(input(\"entr the start day of the month(1-7):\"))\n",
    "numdays = int(input(\"enter the number of days :\"))\n",
    "print(\"Sun Mon Tues Wed Thus Fri Sat\")\n",
    "print(\"----------------------------------\")\n",
    "for i in range(sday-1):\n",
    "    print(end=\" \")\n",
    "i=sday-1\n",
    "for j  in range(1,numdays+1):\n",
    "    if i>6:\n",
    "        print() \n",
    "        i=1\n",
    "    else:\n",
    "        i+=1\n",
    "    print(str(j)+\" \",end=\"  \" )"
   ]
  },
  {
   "cell_type": "code",
   "execution_count": 156,
   "id": "2f175768-f558-4556-a717-deed61d0db0e",
   "metadata": {},
   "outputs": [
    {
     "name": "stdout",
     "output_type": "stream",
     "text": [
      "Sun  Mon  Tues  Wed  Thus  Fri  Sat\n",
      "        1    2    3    4    5  \n",
      "  6    7    8    9   10   11   12  \n",
      " 13   14   15   16   17   18   19  \n",
      " 20   21   22   23   24   25   26  \n",
      " 27   28   29   30   31  "
     ]
    }
   ],
   "source": [
    "mdays = 31\n",
    "sday = 2\n",
    "print(\"Sun  Mon  Tues  Wed  Thus  Fri  Sat\")\n",
    "for _ in range(sday):\n",
    "  print(\" \",end=' ')\n",
    "for days in range(1, mdays+1):\n",
    "    print(f\"{days: >3} \", end=' ')\n",
    "    if (sday+days) %7 ==0:\n",
    "        print()\n",
    "    \n"
   ]
  },
  {
   "cell_type": "code",
   "execution_count": null,
   "id": "fef50729-dbee-4557-b7bb-baecaaddde2c",
   "metadata": {},
   "outputs": [],
   "source": []
  },
  {
   "cell_type": "code",
   "execution_count": null,
   "id": "85dfb63c-d35a-4dba-b7ee-219505a7f855",
   "metadata": {},
   "outputs": [],
   "source": []
  }
 ],
 "metadata": {
  "kernelspec": {
   "display_name": "Python 3 (ipykernel)",
   "language": "python",
   "name": "python3"
  },
  "language_info": {
   "codemirror_mode": {
    "name": "ipython",
    "version": 3
   },
   "file_extension": ".py",
   "mimetype": "text/x-python",
   "name": "python",
   "nbconvert_exporter": "python",
   "pygments_lexer": "ipython3",
   "version": "3.12.7"
  }
 },
 "nbformat": 4,
 "nbformat_minor": 5
}
