{
 "cells": [
  {
   "cell_type": "code",
   "execution_count": 3,
   "id": "915e5ea2-d503-46ad-b27c-ce717370ec54",
   "metadata": {},
   "outputs": [
    {
     "name": "stdin",
     "output_type": "stream",
     "text": [
      "enter the number 23\n"
     ]
    },
    {
     "name": "stdout",
     "output_type": "stream",
     "text": [
      "he is eligible\n"
     ]
    }
   ],
   "source": [
    "person = int(input(\"enter the number\"))\n",
    "if person>=18:\n",
    "    print(\"he is eligible\")\n",
    "else:\n",
    "    print(\"not eligible\")"
   ]
  },
  {
   "cell_type": "code",
   "execution_count": 17,
   "id": "3690a0ef-2e4e-4ae7-a848-cb2435f7c875",
   "metadata": {},
   "outputs": [
    {
     "name": "stdin",
     "output_type": "stream",
     "text": [
      "press any key  5673753765387387638893203222217983298739173\n"
     ]
    },
    {
     "name": "stdout",
     "output_type": "stream",
     "text": [
      "5673753765387387638893203222217983298739173 is a digit\n"
     ]
    }
   ],
   "source": [
    "char = input(\"press any key \")\n",
    "if char.isalpha():\n",
    "    print(char,\"is a character\")\n",
    "if char.isdigit():\n",
    "    print(char,\"is a digit\")\n",
    "if char.isspace():\n",
    "    print(char,\"is a space\")"
   ]
  },
  {
   "cell_type": "code",
   "execution_count": 29,
   "id": "770a7599-0542-4cfd-9ef2-59fadb62ec0f",
   "metadata": {},
   "outputs": [
    {
     "name": "stdin",
     "output_type": "stream",
     "text": [
      "enter a number  45\n"
     ]
    },
    {
     "name": "stdout",
     "output_type": "stream",
     "text": [
      "45 is a positive \n"
     ]
    }
   ],
   "source": [
    "#code to check the number is positive or not\n",
    "num = int(input(\"enter a number \"))\n",
    "if num>0:\n",
    "          print(num,\"is a positive \")\n",
    "if num<0:\n",
    "          print(num,\"is negative\")\n",
    "if num==0:\n",
    "          print(num,\"is a zero\")"
   ]
  },
  {
   "cell_type": "code",
   "execution_count": 31,
   "id": "4b4d9c78-dc6f-4582-8f7c-15af0eaaf064",
   "metadata": {},
   "outputs": [
    {
     "name": "stdin",
     "output_type": "stream",
     "text": [
      "enter number 3\n"
     ]
    },
    {
     "name": "stdout",
     "output_type": "stream",
     "text": [
      "odd\n"
     ]
    }
   ],
   "source": [
    "#check the number is even or odd\n",
    "num = int(input(\"enter number\"))\n",
    "if num%2==0:\n",
    "    print(\"even\")\n",
    "else:\n",
    "    print(\"odd\")"
   ]
  },
  {
   "cell_type": "code",
   "execution_count": 61,
   "id": "a079f432-9887-40c4-98fe-fb922617d47e",
   "metadata": {},
   "outputs": [
    {
     "name": "stdin",
     "output_type": "stream",
     "text": [
      "enter a char from a to z : madhu\n"
     ]
    },
    {
     "name": "stdout",
     "output_type": "stream",
     "text": [
      "the enter word is lowecase : Madhu\n"
     ]
    }
   ],
   "source": [
    "#converting uppercase to lowercase and lowercase to uppercase\n",
    "s = input(\"enter a char from a to z :\")\n",
    "if s>='A' and s<='z':\n",
    "    s = s.title()\n",
    "    print(\"the enter word is lowecase : \" +s)\n",
    "else:\n",
    "    s = s.upper()\n",
    "    print(\"the enter word in uppercase : \" +s)\n",
    "    "
   ]
  },
  {
   "cell_type": "code",
   "execution_count": 47,
   "id": "1006e7bd-9549-48eb-a9a5-daad3772fe4d",
   "metadata": {},
   "outputs": [
    {
     "name": "stdin",
     "output_type": "stream",
     "text": [
      "enter the string MADHU SUDHA\n"
     ]
    },
    {
     "name": "stdout",
     "output_type": "stream",
     "text": [
      "madhu sudha\n"
     ]
    }
   ],
   "source": [
    "s = input(\"enter the string\")\n",
    "s = s.lower()\n",
    "print(s)"
   ]
  },
  {
   "cell_type": "code",
   "execution_count": 45,
   "id": "26888b44-443d-4f7c-a8e8-2f7c5f84170f",
   "metadata": {},
   "outputs": [
    {
     "name": "stdin",
     "output_type": "stream",
     "text": [
      "enter the string madhu\n"
     ]
    },
    {
     "name": "stdout",
     "output_type": "stream",
     "text": [
      "MADHU\n"
     ]
    }
   ],
   "source": [
    "s = input(\"enter the string\")\n",
    "s = s.upper()\n",
    "print(s)"
   ]
  },
  {
   "cell_type": "code",
   "execution_count": 53,
   "id": "b6a12c25-422e-4ec6-ae33-0c2aa5eb4363",
   "metadata": {},
   "outputs": [
    {
     "name": "stdin",
     "output_type": "stream",
     "text": [
      "enter the number 56\n"
     ]
    },
    {
     "name": "stdout",
     "output_type": "stream",
     "text": [
      "out of range\n"
     ]
    }
   ],
   "source": [
    "#code for checking the interval of a given number\n",
    "num = int(input(\"enter the number\"))\n",
    "if num>=0 and num<=10:\n",
    "    print(num,\"is in 0-10 range\")\n",
    "elif num>=11 and num<=20:\n",
    "    print(num,\"is in 11-10\")\n",
    "elif num>=21 and num<=30:\n",
    "    print(num,\"is in 11-10\")\n",
    "else:\n",
    "    print(\"out of range\")\n"
   ]
  },
  {
   "cell_type": "code",
   "execution_count": 71,
   "id": "d50c5ac4-a83e-416a-b036-ff3f924af9eb",
   "metadata": {},
   "outputs": [
    {
     "name": "stdin",
     "output_type": "stream",
     "text": [
      "enter the number 0\n"
     ]
    },
    {
     "name": "stdout",
     "output_type": "stream",
     "text": [
      "positive number\n"
     ]
    }
   ],
   "source": [
    "num = int(input(\"enter the number\"))\n",
    "if num>=0:\n",
    "    print(\"positive number\")\n",
    "elif num<=0:\n",
    "    print(\"negative number\")\n",
    "else:\n",
    "    print(\"not a number\")"
   ]
  },
  {
   "cell_type": "code",
   "execution_count": 77,
   "id": "2e5f8409-f533-486f-995f-0f9d641db749",
   "metadata": {},
   "outputs": [
    {
     "name": "stdin",
     "output_type": "stream",
     "text": [
      "enter the string mADHU\n"
     ]
    },
    {
     "name": "stdout",
     "output_type": "stream",
     "text": [
      "Madhu\n"
     ]
    }
   ],
   "source": [
    "s = input(\"enter the string\")\n",
    "s = s.swapcase()\n",
    "print(s)"
   ]
  },
  {
   "cell_type": "code",
   "execution_count": 81,
   "id": "24dad8c8-4a00-4250-a1e1-c34b8d6141fd",
   "metadata": {},
   "outputs": [
    {
     "name": "stdin",
     "output_type": "stream",
     "text": [
      "enter the string hello\n"
     ]
    },
    {
     "name": "stdout",
     "output_type": "stream",
     "text": [
      "Hello\n"
     ]
    }
   ],
   "source": [
    "s = input(\"enter the string\")\n",
    "s = s.title()\n",
    "print(s)"
   ]
  },
  {
   "cell_type": "code",
   "execution_count": 87,
   "id": "63153f35-cdca-42bc-ba99-cc860c531e44",
   "metadata": {},
   "outputs": [
    {
     "name": "stdin",
     "output_type": "stream",
     "text": [
      "enter the string h\n"
     ]
    },
    {
     "name": "stdout",
     "output_type": "stream",
     "text": [
      "H\n"
     ]
    }
   ],
   "source": [
    "s = input(\"enter the string\")\n",
    "s = s.capitalize()\n",
    "print(s)"
   ]
  },
  {
   "cell_type": "code",
   "execution_count": 91,
   "id": "628acb88-908a-4c58-9f9c-75051720f8f7",
   "metadata": {},
   "outputs": [
    {
     "name": "stdin",
     "output_type": "stream",
     "text": [
      "enter the value of n :  7\n"
     ]
    },
    {
     "name": "stdout",
     "output_type": "stream",
     "text": [
      "0-1-2-3-4-5-6-7-"
     ]
    }
   ],
   "source": [
    "#printing the whole number till n\n",
    "n = int(input(\"enter the value of n : \"))\n",
    "loop = 0\n",
    "while loop<=n:\n",
    "    print(loop, end='-')\n",
    "    loop+=1"
   ]
  },
  {
   "cell_type": "code",
   "execution_count": 9,
   "id": "01bf606f-b852-4ae5-b479-19e9a5531abf",
   "metadata": {},
   "outputs": [
    {
     "name": "stdin",
     "output_type": "stream",
     "text": [
      "enter the value of n :  5\n"
     ]
    },
    {
     "name": "stdout",
     "output_type": "stream",
     "text": [
      "543210"
     ]
    }
   ],
   "source": [
    "n = int(input(\"enter the value of n : \"))\n",
    "loop = 5\n",
    "while loop>=0:\n",
    "    print(loop, end='')\n",
    "    loop-=1"
   ]
  },
  {
   "cell_type": "code",
   "execution_count": 13,
   "id": "131738fc-0bd3-4e41-beb2-0733a3e43b0a",
   "metadata": {},
   "outputs": [
    {
     "name": "stdin",
     "output_type": "stream",
     "text": [
      "enter the value of n :  67\n"
     ]
    },
    {
     "name": "stdout",
     "output_type": "stream",
     "text": [
      "1 3 5 7 9 11 13 15 17 19 21 23 25 27 29 31 33 35 37 39 41 43 45 47 49 51 53 55 57 59 61 63 65 67 "
     ]
    }
   ],
   "source": [
    "n = int(input(\"enter the value of n : \"))\n",
    "i=0\n",
    "while i<=n:\n",
    "    if i%2 == 1:\n",
    "        print(i,end=' ')\n",
    "    i+=1"
   ]
  },
  {
   "cell_type": "code",
   "execution_count": 15,
   "id": "3104ef5c-275b-43f5-8c76-e7f10b54dda8",
   "metadata": {},
   "outputs": [
    {
     "name": "stdout",
     "output_type": "stream",
     "text": [
      "enter -1 to exit!!!\n"
     ]
    },
    {
     "name": "stdin",
     "output_type": "stream",
     "text": [
      "enter any number: 3\n",
      "enter any number: 5\n",
      "enter any number: 7\n",
      "enter any number: -1\n"
     ]
    },
    {
     "name": "stdout",
     "output_type": "stream",
     "text": [
      "count of postivies: 0\n",
      "count of neagtive number 0\n",
      "count of zero 3\n"
     ]
    }
   ],
   "source": [
    "'''program to read the number until  -1 is encountered .also count negatives, postive and zero entered by the user'''\n",
    "n=p=z=0\n",
    "print(\"enter -1 to exit!!!\")\n",
    "while(1):\n",
    "    num = int(input(\"enter any number:\"))\n",
    "    if num==-1:\n",
    "        break\n",
    "    if num==0:\n",
    "        p+=1\n",
    "    elif num>0:\n",
    "        z+=1\n",
    "    else:\n",
    "        n+1\n",
    "print(\"count of postivies:\",p)\n",
    "print(\"count of neagtive number\", n)\n",
    "print(\"count of zero\", z)\n",
    "    "
   ]
  },
  {
   "cell_type": "code",
   "execution_count": 17,
   "id": "2294629d-6a4f-42da-ab79-85da9f7f2ddc",
   "metadata": {},
   "outputs": [
    {
     "name": "stdout",
     "output_type": "stream",
     "text": [
      "0b1000\n"
     ]
    }
   ],
   "source": [
    "print(bin(8))"
   ]
  },
  {
   "cell_type": "code",
   "execution_count": null,
   "id": "a3eafe04-462c-4bbb-85c4-bbb34269e331",
   "metadata": {},
   "outputs": [],
   "source": [
    "''' write a program to convert binary to decimal number by using while loop only\n",
    "input = 1101\n",
    "output = 13'''\n",
    "binary = int(input(\"enter a binary number:\"))\n",
    "decimal = i = 0\n",
    "while binary!=0:  #b\n",
    "    r = binary%10\n",
    "    decimal=binary+r*(2**i)\n",
    "    binary//=10\n",
    "    i+=1\n",
    "print(\"decimal equivalent:\",decimal)\n",
    "    "
   ]
  },
  {
   "cell_type": "code",
   "execution_count": null,
   "id": "ea56bbe4-dbf9-48fa-89fe-0f6b7c44b071",
   "metadata": {},
   "outputs": [],
   "source": []
  }
 ],
 "metadata": {
  "kernelspec": {
   "display_name": "Python 3 (ipykernel)",
   "language": "python",
   "name": "python3"
  },
  "language_info": {
   "codemirror_mode": {
    "name": "ipython",
    "version": 3
   },
   "file_extension": ".py",
   "mimetype": "text/x-python",
   "name": "python",
   "nbconvert_exporter": "python",
   "pygments_lexer": "ipython3",
   "version": "3.12.7"
  }
 },
 "nbformat": 4,
 "nbformat_minor": 5
}
